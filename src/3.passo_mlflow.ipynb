{
 "cells": [
  {
   "cell_type": "code",
   "execution_count": 1,
   "id": "f610d214-005a-4c86-a973-261ce2654f7c",
   "metadata": {},
   "outputs": [],
   "source": [
    "from zipfile import ZipFile\n",
    "import pandas as pd\n",
    "\n",
    "zip_file = ZipFile(\"/content/data/jena_climate_2009_2016.csv.zip\")\n",
    "\n",
    "with zip_file.open(\"jena_climate_2009_2016.csv\") as zf:\n",
    "    df = pd.read_csv(zf)\n",
    "    \n",
    "#Trabalhamos com horas\n",
    "df=df[5::6]\n",
    "\n",
    "# Retirar coluna alvo e armazenar em uma variável separada\n",
    "y=df['T (degC)'].values\n",
    "df=df.drop(columns=['T (degC)'])\n"
   ]
  },
  {
   "cell_type": "code",
   "execution_count": 2,
   "id": "c702bdd3-88f7-4e36-af96-42bbe8765fac",
   "metadata": {},
   "outputs": [],
   "source": [
    "#Transformar em numpy\n",
    "import numpy as np\n",
    "\n",
    "X=np.zeros((len(df),13))\n",
    "for i in range(len(df)):\n",
    "    cols=df.iloc[i]\n",
    "    for j in range(13):\n",
    "        X[i][j]=cols[j+1]"
   ]
  },
  {
   "cell_type": "code",
   "execution_count": 3,
   "id": "6c118891-e83f-4e78-92a9-814c70c0b3aa",
   "metadata": {},
   "outputs": [
    {
     "data": {
      "text/plain": [
       "((70091, 13), (70091,))"
      ]
     },
     "execution_count": 3,
     "metadata": {},
     "output_type": "execute_result"
    }
   ],
   "source": [
    "X.shape,y.shape"
   ]
  },
  {
   "cell_type": "markdown",
   "id": "ed309c4a-52e9-4cef-ad77-091c90e32e05",
   "metadata": {
    "tags": []
   },
   "source": [
    "## MLFlow\n",
    "\n",
    "- **Melhores**:\n",
    "    - Macro (Metade treino e validação)\n",
    "        - prever outra metade (RandomForestRegressor)\n",
    "        - prever um ano (LinearRegression)\n",
    "    - Micro\n",
    "       - 30 horas para prever as próximas 10 horas (ElasticNet)\n",
    "       - 100 horas para prever as próximas 100 horas (ElasticNet)\n"
   ]
  },
  {
   "cell_type": "code",
   "execution_count": 4,
   "id": "54f7a7cd-cbf1-4b7b-865e-c46d50204cb3",
   "metadata": {},
   "outputs": [],
   "source": [
    "import os\n",
    "import warnings\n",
    "import sys\n",
    "\n",
    "import pandas as pd\n",
    "import numpy as np\n",
    "from sklearn.metrics import mean_squared_error, mean_absolute_error, r2_score\n",
    "from sklearn.model_selection import train_test_split\n",
    "from sklearn.linear_model import ElasticNet\n",
    "from sklearn.ensemble import RandomForestRegressor\n",
    "from sklearn.linear_model import LinearRegression\n",
    "from urllib.parse import urlparse\n",
    "import mlflow\n",
    "import mlflow.sklearn\n",
    "\n",
    "import logging\n",
    "\n",
    "logging.basicConfig(level=logging.WARN)\n",
    "logger = logging.getLogger(__name__)\n",
    "warnings.filterwarnings(\"ignore\")"
   ]
  },
  {
   "cell_type": "code",
   "execution_count": 5,
   "id": "569a3c20-5790-4bb6-b5f6-e29cc5d3690e",
   "metadata": {},
   "outputs": [],
   "source": [
    "def eval_metrics(actual, pred):\n",
    "    rmse = np.sqrt(mean_squared_error(actual, pred))\n",
    "    mae = mean_absolute_error(actual, pred)\n",
    "    r2 = r2_score(actual, pred)\n",
    "    return rmse, mae, r2"
   ]
  },
  {
   "cell_type": "code",
   "execution_count": 6,
   "id": "fa8be294-2938-4057-b138-0f63828567fe",
   "metadata": {},
   "outputs": [],
   "source": [
    "mlflow.set_tracking_uri(\"http://mlflow-server:5000\")"
   ]
  },
  {
   "cell_type": "markdown",
   "id": "7e2282fb-27db-4adb-91f9-882308a2a2de",
   "metadata": {
    "tags": []
   },
   "source": [
    "## Macro"
   ]
  },
  {
   "cell_type": "code",
   "execution_count": 7,
   "id": "1cb5d1f2-42a8-40ea-915c-17c7bb136474",
   "metadata": {},
   "outputs": [
    {
     "name": "stderr",
     "output_type": "stream",
     "text": [
      "2022/11/27 17:12:03 INFO mlflow.tracking.fluent: Experiment with name 'Macro' does not exist. Creating a new experiment.\n"
     ]
    },
    {
     "name": "stdout",
     "output_type": "stream",
     "text": [
      "RMSE: 0.017477145690490678\n",
      "MAE: 0.0035196946782763533\n",
      "R2: 0.9999952417168407\n"
     ]
    },
    {
     "name": "stderr",
     "output_type": "stream",
     "text": [
      "Successfully registered model 'RandomForestRegressor-metade-prever-metade'.\n",
      "2022/11/27 17:12:23 INFO mlflow.tracking._model_registry.client: Waiting up to 300 seconds for model version to finish creation.                     Model name: RandomForestRegressor-metade-prever-metade, version 1\n",
      "Created version '1' of model 'RandomForestRegressor-metade-prever-metade'.\n"
     ]
    }
   ],
   "source": [
    "mlflow.set_experiment(\"Macro\")\n",
    "\n",
    "# metade treino e validação\n",
    "forecast_len=len(X)//2\n",
    "train_x, train_y, test_x, test_y = X[:len(X)//2],y[:len(X)//2],X[len(X)//2:forecast_len+len(X)//2],y[len(X)//2:forecast_len+len(X)//2]\n",
    "\n",
    "\n",
    "with mlflow.start_run():\n",
    "    mlflow.set_tag(\"mlflow.runName\", \"metade-para-prever-metade\")\n",
    "    lr = RandomForestRegressor(random_state=42)\n",
    "    lr.fit(train_x, train_y)\n",
    "\n",
    "    predicted_qualities = lr.predict(test_x)\n",
    "\n",
    "    (rmse, mae, r2) = eval_metrics(test_y, predicted_qualities)\n",
    "\n",
    "    print(\"RMSE: %s\" % rmse)\n",
    "    print(\"MAE: %s\" % mae)\n",
    "    print(\"R2: %s\" % r2)\n",
    "\n",
    "    mlflow.log_metric(\"rmse\", rmse)\n",
    "    mlflow.log_metric(\"r2\", r2)\n",
    "    mlflow.log_metric(\"mae\", mae)\n",
    "\n",
    "    tracking_url_type_store = urlparse(mlflow.get_tracking_uri()).scheme\n",
    "\n",
    "    # Model registry does not work with file store\n",
    "    if tracking_url_type_store != \"file\":\n",
    "\n",
    "        # Register the model\n",
    "        # There are other ways to use the Model Registry, which depends on the use case,\n",
    "        # please refer to the doc for more information:\n",
    "        # https://mlflow.org/docs/latest/model-registry.html#api-workflow\n",
    "        mlflow.sklearn.log_model(lr, \"model\", registered_model_name=\"RandomForestRegressor-metade-prever-metade\")\n",
    "    else:\n",
    "        mlflow.sklearn.log_model(lr, \"model\")"
   ]
  },
  {
   "cell_type": "code",
   "execution_count": 8,
   "id": "57e83d7d-e458-4eae-b2df-647cdc361065",
   "metadata": {},
   "outputs": [
    {
     "name": "stdout",
     "output_type": "stream",
     "text": [
      "RMSE: 0.009231508833922214\n",
      "MAE: 0.006771716537976536\n",
      "R2: 0.9999988489986125\n"
     ]
    },
    {
     "name": "stderr",
     "output_type": "stream",
     "text": [
      "Successfully registered model 'LinearRegression-metade-prever-um-ano'.\n",
      "2022/11/27 17:12:24 INFO mlflow.tracking._model_registry.client: Waiting up to 300 seconds for model version to finish creation.                     Model name: LinearRegression-metade-prever-um-ano, version 1\n",
      "Created version '1' of model 'LinearRegression-metade-prever-um-ano'.\n"
     ]
    }
   ],
   "source": [
    "mlflow.set_experiment(\"Macro\")\n",
    "\n",
    "# metade treino e validação para prever um ano\n",
    "forecast_len=8766 #8766 horas=1 ano\n",
    "train_x, train_y, test_x, test_y = X[:len(X)//2],y[:len(X)//2],X[len(X)//2:forecast_len+len(X)//2],y[len(X)//2:forecast_len+len(X)//2]\n",
    "\n",
    "\n",
    "with mlflow.start_run():\n",
    "    mlflow.set_tag(\"mlflow.runName\", \"metade-para-prever-1-ano\")\n",
    "    lr = LinearRegression()\n",
    "    lr.fit(train_x, train_y)\n",
    "\n",
    "    predicted_qualities = lr.predict(test_x)\n",
    "\n",
    "    (rmse, mae, r2) = eval_metrics(test_y, predicted_qualities)\n",
    "\n",
    "    print(\"RMSE: %s\" % rmse)\n",
    "    print(\"MAE: %s\" % mae)\n",
    "    print(\"R2: %s\" % r2)\n",
    "\n",
    "    mlflow.log_metric(\"rmse\", rmse)\n",
    "    mlflow.log_metric(\"r2\", r2)\n",
    "    mlflow.log_metric(\"mae\", mae)\n",
    "\n",
    "    tracking_url_type_store = urlparse(mlflow.get_tracking_uri()).scheme\n",
    "\n",
    "    # Model registry does not work with file store\n",
    "    if tracking_url_type_store != \"file\":\n",
    "\n",
    "        # Register the model\n",
    "        # There are other ways to use the Model Registry, which depends on the use case,\n",
    "        # please refer to the doc for more information:\n",
    "        # https://mlflow.org/docs/latest/model-registry.html#api-workflow\n",
    "        mlflow.sklearn.log_model(lr, \"model\", registered_model_name=\"LinearRegression-metade-prever-um-ano\")\n",
    "    else:\n",
    "        mlflow.sklearn.log_model(lr, \"model\")"
   ]
  },
  {
   "cell_type": "markdown",
   "id": "64dbf505-2f16-4fa1-9c03-ee2986e2e842",
   "metadata": {
    "tags": []
   },
   "source": [
    "## Micro"
   ]
  },
  {
   "cell_type": "markdown",
   "id": "0c1a6a16-997d-449d-9e26-f1a95e1bd53b",
   "metadata": {
    "tags": []
   },
   "source": [
    "#### 30 horas para prever 10h"
   ]
  },
  {
   "cell_type": "code",
   "execution_count": 9,
   "id": "ae1d11ec-ed8b-402a-b823-b577a754378a",
   "metadata": {},
   "outputs": [],
   "source": [
    "N=30\n",
    "seg_X=[]\n",
    "seg_y=[]\n",
    "c=0\n",
    "c1=0\n",
    "c2=0\n",
    "sample=[]\n",
    "sample_y=[]\n",
    "while(c<X.shape[0]):\n",
    "    if c1<N:\n",
    "        sample.append(X[c])\n",
    "        c1+=1\n",
    "    else:\n",
    "        sample_y.append(y[c])\n",
    "        if len(sample_y)==10:\n",
    "            c1=0\n",
    "            c2=0\n",
    "            seg_X.append(sample)\n",
    "            seg_y.append(sample_y)\n",
    "            sample=[]\n",
    "            sample_y=[]\n",
    "        c2+=1\n",
    "    c+=1"
   ]
  },
  {
   "cell_type": "code",
   "execution_count": 10,
   "id": "f9551fe4-dc60-4d87-8b21-6e4a3e6e7c96",
   "metadata": {},
   "outputs": [
    {
     "data": {
      "text/plain": [
       "((1752, 390), (1752, 10))"
      ]
     },
     "execution_count": 10,
     "metadata": {},
     "output_type": "execute_result"
    }
   ],
   "source": [
    "seg_X=np.asarray(seg_X)\n",
    "seg_y=np.asarray(seg_y)\n",
    "seg_X=seg_X.reshape((seg_X.shape[0],seg_X.shape[1]*seg_X.shape[2]))\n",
    "\n",
    "seg_X.shape,seg_y.shape"
   ]
  },
  {
   "cell_type": "code",
   "execution_count": 11,
   "id": "da2da430-81fe-4952-b56a-79e015627f32",
   "metadata": {},
   "outputs": [],
   "source": [
    "import numpy as np\n",
    "from sklearn.model_selection import train_test_split\n",
    "train_x, test_x, train_y, test_y = train_test_split(\n",
    "    seg_X, seg_y, test_size=0.33, random_state=42)"
   ]
  },
  {
   "cell_type": "code",
   "execution_count": 12,
   "id": "73b16064-4eb1-4db3-a3c8-ee8e0bc6b008",
   "metadata": {},
   "outputs": [
    {
     "name": "stderr",
     "output_type": "stream",
     "text": [
      "2022/11/27 17:12:24 INFO mlflow.tracking.fluent: Experiment with name 'Micro' does not exist. Creating a new experiment.\n"
     ]
    },
    {
     "name": "stdout",
     "output_type": "stream",
     "text": [
      "RMSE: 2.231146276331902\n",
      "MAE: 1.6182535174756567\n",
      "R2: 0.9334201830059466\n"
     ]
    },
    {
     "name": "stderr",
     "output_type": "stream",
     "text": [
      "Successfully registered model 'ElasticNet-30-horas-prever-10-horas'.\n",
      "2022/11/27 17:12:28 INFO mlflow.tracking._model_registry.client: Waiting up to 300 seconds for model version to finish creation.                     Model name: ElasticNet-30-horas-prever-10-horas, version 1\n",
      "Created version '1' of model 'ElasticNet-30-horas-prever-10-horas'.\n"
     ]
    }
   ],
   "source": [
    "mlflow.set_experiment(\"Micro\")\n",
    "\n",
    "with mlflow.start_run():\n",
    "    mlflow.set_tag(\"mlflow.runName\", \"30-horas-para-prever-10-horas\")\n",
    "    lr = ElasticNet()\n",
    "    lr.fit(train_x, train_y)\n",
    "\n",
    "    predicted_qualities = lr.predict(test_x)\n",
    "\n",
    "    (rmse, mae, r2) = eval_metrics(test_y, predicted_qualities)\n",
    "\n",
    "    print(\"RMSE: %s\" % rmse)\n",
    "    print(\"MAE: %s\" % mae)\n",
    "    print(\"R2: %s\" % r2)\n",
    "\n",
    "    mlflow.log_metric(\"rmse\", rmse)\n",
    "    mlflow.log_metric(\"r2\", r2)\n",
    "    mlflow.log_metric(\"mae\", mae)\n",
    "\n",
    "    tracking_url_type_store = urlparse(mlflow.get_tracking_uri()).scheme\n",
    "\n",
    "    # Model registry does not work with file store\n",
    "    if tracking_url_type_store != \"file\":\n",
    "\n",
    "        # Register the model\n",
    "        # There are other ways to use the Model Registry, which depends on the use case,\n",
    "        # please refer to the doc for more information:\n",
    "        # https://mlflow.org/docs/latest/model-registry.html#api-workflow\n",
    "        mlflow.sklearn.log_model(lr, \"model\", registered_model_name=\"ElasticNet-30-horas-prever-10-horas\")\n",
    "    else:\n",
    "        mlflow.sklearn.log_model(lr, \"model\")"
   ]
  },
  {
   "cell_type": "markdown",
   "id": "2fbe8a34-c5a4-4efc-8d54-6b8fc28ae76c",
   "metadata": {
    "tags": []
   },
   "source": [
    "####  100 horas para prever 10h"
   ]
  },
  {
   "cell_type": "code",
   "execution_count": 13,
   "id": "3600fb7e-cf41-4c4e-9219-13eb8061e181",
   "metadata": {},
   "outputs": [],
   "source": [
    "N=100\n",
    "seg_X=[]\n",
    "seg_y=[]\n",
    "c=0\n",
    "c1=0\n",
    "c2=0\n",
    "sample=[]\n",
    "sample_y=[]\n",
    "while(c<X.shape[0]):\n",
    "    if c1<N:\n",
    "        sample.append(X[c])\n",
    "        c1+=1\n",
    "    else:\n",
    "        sample_y.append(y[c])\n",
    "        if len(sample_y)==10:\n",
    "            c1=0\n",
    "            c2=0\n",
    "            seg_X.append(sample)\n",
    "            seg_y.append(sample_y)\n",
    "            sample=[]\n",
    "            sample_y=[]\n",
    "        c2+=1\n",
    "    c+=1"
   ]
  },
  {
   "cell_type": "code",
   "execution_count": 14,
   "id": "7a891d0f-2723-43c2-8ddd-7b17b67886c7",
   "metadata": {},
   "outputs": [
    {
     "data": {
      "text/plain": [
       "((637, 1300), (637, 10))"
      ]
     },
     "execution_count": 14,
     "metadata": {},
     "output_type": "execute_result"
    }
   ],
   "source": [
    "seg_X=np.asarray(seg_X)\n",
    "seg_y=np.asarray(seg_y)\n",
    "seg_X=seg_X.reshape((seg_X.shape[0],seg_X.shape[1]*seg_X.shape[2]))\n",
    "\n",
    "seg_X.shape,seg_y.shape"
   ]
  },
  {
   "cell_type": "code",
   "execution_count": 15,
   "id": "cea8c40d-cf2c-4a2f-ba7f-0afd023485b3",
   "metadata": {},
   "outputs": [],
   "source": [
    "import numpy as np\n",
    "from sklearn.model_selection import train_test_split\n",
    "train_x, test_x, train_y, test_y = train_test_split(\n",
    "    seg_X, seg_y, test_size=0.33, random_state=42)"
   ]
  },
  {
   "cell_type": "code",
   "execution_count": 16,
   "id": "c8847eb2-2daf-4cfa-96f9-4e3911537aca",
   "metadata": {},
   "outputs": [
    {
     "name": "stdout",
     "output_type": "stream",
     "text": [
      "RMSE: 2.4608776646906025\n",
      "MAE: 1.8010746663016142\n",
      "R2: 0.9213792386289871\n"
     ]
    },
    {
     "name": "stderr",
     "output_type": "stream",
     "text": [
      "Successfully registered model 'ElasticNet-100-horas-prever-10-horas'.\n",
      "2022/11/27 17:12:31 INFO mlflow.tracking._model_registry.client: Waiting up to 300 seconds for model version to finish creation.                     Model name: ElasticNet-100-horas-prever-10-horas, version 1\n",
      "Created version '1' of model 'ElasticNet-100-horas-prever-10-horas'.\n"
     ]
    }
   ],
   "source": [
    "with mlflow.start_run():\n",
    "    mlflow.set_tag(\"mlflow.runName\", \"100-horas-para-prever-10-horas\")\n",
    "    lr = ElasticNet()\n",
    "    lr.fit(train_x, train_y)\n",
    "\n",
    "    predicted_qualities = lr.predict(test_x)\n",
    "\n",
    "    (rmse, mae, r2) = eval_metrics(test_y, predicted_qualities)\n",
    "\n",
    "    print(\"RMSE: %s\" % rmse)\n",
    "    print(\"MAE: %s\" % mae)\n",
    "    print(\"R2: %s\" % r2)\n",
    "\n",
    "    mlflow.log_metric(\"rmse\", rmse)\n",
    "    mlflow.log_metric(\"r2\", r2)\n",
    "    mlflow.log_metric(\"mae\", mae)\n",
    "\n",
    "    tracking_url_type_store = urlparse(mlflow.get_tracking_uri()).scheme\n",
    "\n",
    "    # Model registry does not work with file store\n",
    "    if tracking_url_type_store != \"file\":\n",
    "\n",
    "        # Register the model\n",
    "        # There are other ways to use the Model Registry, which depends on the use case,\n",
    "        # please refer to the doc for more information:\n",
    "        # https://mlflow.org/docs/latest/model-registry.html#api-workflow\n",
    "        mlflow.sklearn.log_model(lr, \"model\", registered_model_name=\"ElasticNet-100-horas-prever-10-horas\")\n",
    "    else:\n",
    "        mlflow.sklearn.log_model(lr, \"model\")"
   ]
  },
  {
   "cell_type": "code",
   "execution_count": null,
   "id": "5601b5e2-aec3-4ff9-bed3-f6f7736d8d87",
   "metadata": {},
   "outputs": [],
   "source": []
  },
  {
   "cell_type": "code",
   "execution_count": null,
   "id": "1deab5f8-8bdd-4ee0-ba3d-0edd6c5e1e38",
   "metadata": {},
   "outputs": [],
   "source": []
  }
 ],
 "metadata": {
  "kernelspec": {
   "display_name": "Python 3 (ipykernel)",
   "language": "python",
   "name": "python3"
  },
  "language_info": {
   "codemirror_mode": {
    "name": "ipython",
    "version": 3
   },
   "file_extension": ".py",
   "mimetype": "text/x-python",
   "name": "python",
   "nbconvert_exporter": "python",
   "pygments_lexer": "ipython3",
   "version": "3.10.6"
  }
 },
 "nbformat": 4,
 "nbformat_minor": 5
}
